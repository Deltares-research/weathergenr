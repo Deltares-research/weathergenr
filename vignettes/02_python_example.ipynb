{
 "cells": [
  {
   "cell_type": "markdown",
   "id": "e9077f20-dd5e-4b1a-8da2-ed0ad0552370",
   "metadata": {
    "jupyter": {
     "source_hidden": true
    },
    "tags": []
   },
   "source": [
    "# Steps to Run Gridded Weather Generator from Phython Environment"
   ]
  },
  {
   "cell_type": "markdown",
   "id": "9c9542d0-7e03-487f-8783-38c5a2588dab",
   "metadata": {},
   "source": [
    "**Warning: This is still in progress and may not work**\n",
    "\n",
    "Prerequisites: \n",
    "1. Install latest version of R via https://mirror.lyrahosting.com/CRAN/\n",
    "2. Create a new python environment with packages rpy2, r-base, r-essentials, pandas, numpy2\n"
   ]
  },
  {
   "cell_type": "code",
   "execution_count": null,
   "id": "e15ac9ab-62e3-49eb-a1ed-d806464f0f78",
   "metadata": {},
   "outputs": [],
   "source": [
    "# Step 1:\n",
    "#  set all PATH variables\n",
    "\n",
    "import os\n",
    "os.environ['PATH'] = 'C:/Program Files/R/R-4.1.2/bin/x64' + os.pathsep + os.environ.get('PATH', '')\n",
    "os.environ['PYTHONHOME'] = 'C:/Users/taner/Anaconda3/envs/wegentest'\n",
    "os.environ['PYTHONPATH'] = 'C:/Users/taner/Anaconda3/envs/wegentest/Lib/site-packages'\n",
    "os.environ['R_HOME'] = 'C:/Program Files/R/R-4.1.2'\n",
    "os.environ['R_USER'] = 'C:/Users/taner/Anaconda3/envs/wegentest/Lib/site-packages/rpy2'\n",
    "\n",
    "# Check if variables are correctly defined for rpy2 \n",
    "import rpy2.situation\n",
    "for row in rpy2.situation.iter_info():\n",
    "    print(row)"
   ]
  },
  {
   "cell_type": "code",
   "execution_count": null,
   "id": "8dd4e8a5-9b4f-4097-bad9-c3969dfee8f4",
   "metadata": {},
   "outputs": [],
   "source": [
    "#Import necessary packages\n",
    "import rpy2.robjects as robjects\n",
    "from rpy2.robjects.packages import importr\n",
    "\n",
    "# This is needed for conversion between R and Python syntax\n",
    "d = {'package.dependencies': 'package_dot_dependencies',\n",
    "     'package_dependencies': 'package_uscore_dependencies'}\n",
    "\n",
    "# Load core packages\n",
    "base = importr('base')\n",
    "utils = importr('utils')\n",
    "utils.chooseCRANmirror(ind=1) # select the first mirror in the list\n",
    "devtools = utils.install_packages('devtools')\n",
    "devtools = importr('devtools', robject_translations = d)\n",
    "\n",
    "# Install gridwegen from Github master branch\n",
    "gridwegen = devtools.install_github(\"tanerumit/gridwegen\")\n",
    "gridwegen = importr('gridwegen', robject_translations = d)"
   ]
  },
  {
   "cell_type": "code",
   "execution_count": 17,
   "id": "22b05813-c0ab-4398-8dc2-7f4ed2e4dff2",
   "metadata": {},
   "outputs": [],
   "source": [
    "# Path to output files\n",
    "out_path = \"C:/wegentest/ntoum/\"\n",
    "nc_file =  \"ntoum.nc\"\n",
    "nc_dimnames = base.list(x = \"lon\", y = \"lat\", time = \"time\")\n",
    "variables = base.c(\"precip\", \"temp\", \"temp_min\", \"temp_max\")\n",
    "variable_labels = base.c(\"Precipitation\", \"Mean Temperature\", \"Minimum Temperature\", \"Maximum Temperature\")\n",
    "variable_units = base.c(\"mm/day\", \"DegC\", \"DegC\", \"DegC\")\n",
    "\n",
    "# Read-in gridded weather data from netcdf\n",
    "nc_data_ini = gridwegen.readNetcdf(\n",
    "    nc_path = base.paste0(out_path, \"data/\"),\n",
    "    nc_file = nc_file,\n",
    "    nc_dimnames = nc_dimnames,\n",
    "    nc_variables = variables,\n",
    "    origin_date = base.as_Date(\"1981-01-01\"),\n",
    "    has_leap_days = True)\n",
    "\n",
    "nc_data_ini"
   ]
  },
  {
   "cell_type": "code",
   "execution_count": null,
   "id": "8ed075c3-8c37-4f49-a619-5c548c2f66f9",
   "metadata": {},
   "outputs": [],
   "source": [
    "#### NOTES ####\n",
    "\n",
    "# R to Python syntax changes\n",
    "# replace .(dots) in the parameters with underscores (e.g., nc.path becomes nc_path)\n",
    "# replace TRUE with True\n"
   ]
  }
 ],
 "metadata": {
  "kernelspec": {
   "display_name": "wegentest",
   "language": "python",
   "name": "wegentest"
  },
  "language_info": {
   "codemirror_mode": {
    "name": "ipython",
    "version": 3
   },
   "file_extension": ".py",
   "mimetype": "text/x-python",
   "name": "python",
   "nbconvert_exporter": "python",
   "pygments_lexer": "ipython3",
   "version": "3.10.0"
  }
 },
 "nbformat": 4,
 "nbformat_minor": 5
}
