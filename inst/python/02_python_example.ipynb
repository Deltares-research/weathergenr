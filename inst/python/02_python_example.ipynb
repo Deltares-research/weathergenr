{
 "cells": [
  {
   "cell_type": "markdown",
   "id": "e9077f20-dd5e-4b1a-8da2-ed0ad0552370",
   "metadata": {
    "jupyter": {
     "source_hidden": true
    },
    "tags": []
   },
   "source": [
    "# Steps to Run Gridded Weather Generator from Phython Environment"
   ]
  },
  {
   "cell_type": "markdown",
   "id": "9c9542d0-7e03-487f-8783-38c5a2588dab",
   "metadata": {},
   "source": [
    "**Warning: This is still in progress and may not work**\n",
    "\n",
    "Prerequisites: \n",
    "1. Install latest version of R via https://mirror.lyrahosting.com/CRAN/\n",
    "2. Create a new python environment with packages rpy2, r-base, r-essentials, pandas, numpy2\n",
    "\n",
    "Notes (r to python syntax changes)\n",
    "- replace .(dots) in the parameters with underscores (e.g., nc.path becomes nc_path)\n",
    "- replace TRUE with True\n"
   ]
  },
  {
   "cell_type": "code",
   "execution_count": 3,
   "id": "e15ac9ab-62e3-49eb-a1ed-d806464f0f78",
   "metadata": {},
   "outputs": [
    {
     "name": "stdout",
     "output_type": "stream",
     "text": [
      "rpy2 version:\n",
      "3.4.5\n",
      "Python version:\n",
      "3.10.0 | packaged by conda-forge | (default, Nov 20 2021, 02:18:13) [MSC v.1916 64 bit (AMD64)]\n",
      "Looking for R's HOME:\n",
      "    Environment variable R_HOME: C:/Program Files/R/R-4.1.2\n",
      "    InstallPath in the registry: None\n",
      "    Environment variable R_USER: C:/Users/taner/Anaconda3/envs/wegentest/Lib/site-packages/rpy2\n",
      "    Environment variable R_LIBS_USER: None\n",
      "    Warning: There is no R in the PATH and no R_HOME defined.\n",
      "R version:\n",
      "    In the PATH: \n",
      "    Loading R library from rpy2: OK\n",
      "Additional directories to load R packages from:\n",
      "None\n",
      "C extension compilation:\n",
      "    Warning: Unable to get R compilation flags.\n"
     ]
    }
   ],
   "source": [
    "# Step 1:\n",
    "#  set all PATH variables\n",
    "\n",
    "import os\n",
    "os.environ['PATH'] = 'C:/Program Files/R/R-4.1.2/bin/x64' + os.pathsep + os.environ.get('PATH', '')\n",
    "os.environ['PYTHONHOME'] = 'C:/Users/taner/Anaconda3/envs/wegentest'\n",
    "os.environ['PYTHONPATH'] = 'C:/Users/taner/Anaconda3/envs/wegentest/Lib/site-packages'\n",
    "os.environ['R_HOME'] = 'C:/Program Files/R/R-4.1.2'\n",
    "os.environ['R_USER'] = 'C:/Users/taner/Anaconda3/envs/wegentest/Lib/site-packages/rpy2'\n",
    "\n",
    "# Check if variables are correctly defined for rpy2 \n",
    "import rpy2.situation\n",
    "for row in rpy2.situation.iter_info():\n",
    "    print(row)"
   ]
  },
  {
   "cell_type": "code",
   "execution_count": 4,
   "id": "412aa5ad-44f2-4e78-b335-78a34bc72dcb",
   "metadata": {},
   "outputs": [],
   "source": [
    "### Import necessary packages\n",
    "import rpy2.robjects as robjects\n",
    "from rpy2.robjects.packages import importr\n",
    "\n",
    "# This is needed for conversion between R and Python syntax\n",
    "d = {'package.dependencies': 'package_dot_dependencies',\n",
    "     'package_dependencies': 'package_uscore_dependencies'}\n",
    "\n",
    "# Load core packages\n",
    "base = importr('base')\n",
    "utils = importr('utils')\n",
    "#utils.chooseCRANmirror(ind=1) # select the first mirror in the list\n",
    "#devtools = utils.install_packages('devtools')\n",
    "#devtools = importr('devtools', robject_translations = d)\n",
    "\n",
    "# Install gridwegen from Github master branch\n",
    "#gridwegen = devtools.install_github(\"tanerumit/gridwegen\")\n",
    "gridwegen = importr('gridwegen', robject_translations = d)"
   ]
  },
  {
   "cell_type": "code",
   "execution_count": null,
   "id": "22b05813-c0ab-4398-8dc2-7f4ed2e4dff2",
   "metadata": {},
   "outputs": [],
   "source": [
    "# Path to output files\n",
    "out_path = \"C:/wegentest/ntoum/\"\n",
    "nc_file =  \"ntoum.nc\"\n",
    "nc_dimnames = base.list(x = \"lon\", y = \"lat\", time = \"time\")\n",
    "\n",
    "variables = base.c(\"precip\", \"temp\", \"temp_min\", \"temp_max\")\n",
    "variable_labels = base.c(\"Precipitation\", \"Mean Temperature\", \"Minimum Temperature\", \"Maximum Temperature\")\n",
    "variable_units = base.c(\"mm/day\", \"DegC\", \"DegC\", \"DegC\")\n",
    "\n",
    "# Read-in gridded weather data from netcdf\n",
    "nc_data_ini = gridwegen.readNetcdf(\n",
    "    nc_path = base.paste0(out_path, \"data/\"),\n",
    "    nc_file = nc_file,\n",
    "    nc_dimnames = nc_dimnames,\n",
    "    nc_variables = variables,\n",
    "    origin_date = base.as_Date(\"1981-01-01\"),\n",
    "    has_leap_days = True)\n",
    "\n",
    "# Run simulateWeather function function\n",
    "gridwegen.simulateWeather(\n",
    "  climate_data = nc_data_ini[0],\n",
    "  climate_grid = nc_data_ini[1],\n",
    "  year_start = 1981,\n",
    "  year_num = 39,\n",
    "  month_start = 1,\n",
    "  variable_names = variables,\n",
    "  variable_labels = variable_labels,\n",
    "  variable_units = variable_units,\n",
    "  sim_year_start = 2020,\n",
    "  sim_year_num = 40,\n",
    "  realization_num = 3,\n",
    "  warm_variable = \"precip\",\n",
    "  warm_signif_level = 0.90,\n",
    "  warm_sample_size = 20000,\n",
    "  save_warm_results = True,\n",
    "  knn_annual_sample_size = 100,\n",
    "  evaluate_model = False,\n",
    "  evaluate_grid_num = 30,\n",
    "  apply_delta_changes = False,\n",
    "  apply_step_changes = True,\n",
    "  save_scenario_matrix = False,\n",
    "  output_path = out_path,\n",
    "  output_ncfile_template = nc_data_ini,\n",
    "  output_ncfile_prefix = \"clim_change_rlz\"\n",
    ")"
   ]
  }
 ],
 "metadata": {
  "kernelspec": {
   "display_name": "wegentest",
   "language": "python",
   "name": "wegentest"
  },
  "language_info": {
   "codemirror_mode": {
    "name": "ipython",
    "version": 3
   },
   "file_extension": ".py",
   "mimetype": "text/x-python",
   "name": "python",
   "nbconvert_exporter": "python",
   "pygments_lexer": "ipython3",
   "version": "3.10.0"
  }
 },
 "nbformat": 4,
 "nbformat_minor": 5
}
